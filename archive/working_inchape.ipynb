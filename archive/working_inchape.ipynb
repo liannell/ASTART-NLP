{
 "cells": [
  {
   "cell_type": "markdown",
   "id": "154dc378-cb41-4b59-95cf-88facdf4c85f",
   "metadata": {
    "tags": []
   },
   "source": [
    "# INCHAPE USED CARS: Sentiment Analysis for Customer Reviews - Data Collection"
   ]
  },
  {
   "cell_type": "markdown",
   "id": "49abfc80-c6fa-47c9-b51c-4a9ec26bdb00",
   "metadata": {},
   "source": [
    "- https://www.trustpilot.com/review/inchcape.co.uk"
   ]
  },
  {
   "cell_type": "markdown",
   "id": "576e24bc-b8a7-4ff3-b3b8-eb1bc231c4fc",
   "metadata": {},
   "source": [
    "## Webscraping using Selenium"
   ]
  },
  {
   "cell_type": "code",
   "execution_count": 1,
   "id": "bbb1f8d6-36b7-4f74-aeb4-ffc337df0f5f",
   "metadata": {},
   "outputs": [],
   "source": [
    "url = 'https://www.trustpilot.com/review/inchcape.co.uk?'"
   ]
  },
  {
   "cell_type": "code",
   "execution_count": 2,
   "id": "ced8055a-592c-4106-b9a1-73c7c25e7a00",
   "metadata": {},
   "outputs": [],
   "source": [
    "import numpy as np\n",
    "import pandas as pd\n",
    "import time\n",
    "from tqdm import tqdm #progress bars\n",
    "\n",
    "from selenium import webdriver\n",
    "from selenium.webdriver.common.keys import Keys\n",
    "from selenium.webdriver.common.by import By\n",
    "from selenium.webdriver.support.ui import WebDriverWait\n",
    "from selenium.webdriver.support import expected_conditions as EC\n",
    "from selenium.common.exceptions import TimeoutException\n",
    "from selenium.common.exceptions import StaleElementReferenceException\n",
    "from selenium.common.exceptions import NoSuchElementException"
   ]
  },
  {
   "cell_type": "code",
   "execution_count": 3,
   "id": "77009b53-a8e9-43b0-a896-6bad61d90d6c",
   "metadata": {},
   "outputs": [
    {
     "name": "stderr",
     "output_type": "stream",
     "text": [
      "<timed exec>:1: DeprecationWarning: executable_path has been deprecated, please pass in a Service object\n"
     ]
    },
    {
     "name": "stdout",
     "output_type": "stream",
     "text": [
      "CPU times: user 15.8 ms, sys: 17.6 ms, total: 33.3 ms\n",
      "Wall time: 1min 19s\n"
     ]
    }
   ],
   "source": [
    "%%time\n",
    "browser = webdriver.Chrome('/Users/liannelelis/Downloads/chromedriver113')\n",
    "browser.get(url)\n",
    "browser.maximize_window()"
   ]
  },
  {
   "cell_type": "code",
   "execution_count": 4,
   "id": "2f9a55e6-d58e-4ae0-94fe-5ddf770ee397",
   "metadata": {},
   "outputs": [],
   "source": [
    "def clickNextPage():\n",
    "    try:\n",
    "        nextPage = EC.element_to_be_clickable((By.NAME, \"pagination-button-next\"))\n",
    "        WebDriverWait(browser, 5).until(nextPage)\n",
    "\n",
    "        time.sleep(2)  # Add a small delay to ensure the page is fully loaded\n",
    "        nextPagebutton = browser.find_element(By.NAME, \"pagination-button-next\")\n",
    "        browser.execute_script(\"arguments[0].click();\", nextPagebutton)\n",
    "\n",
    "\n",
    "    except TimeoutException:\n",
    "        print(\"Timed out waiting for page to load.\")"
   ]
  },
  {
   "cell_type": "markdown",
   "id": "10c98385-ab29-4a17-8a7e-f1be94ab5c2e",
   "metadata": {
    "tags": []
   },
   "source": [
    "#### Get Reviews Updated"
   ]
  },
  {
   "cell_type": "code",
   "execution_count": 5,
   "id": "f40c1c56-7896-4e2c-a630-ab3c1efe2f09",
   "metadata": {},
   "outputs": [],
   "source": [
    "def getReviews(reviewBox):\n",
    "    for box in reviewBox:\n",
    "        retry_count = 0\n",
    "        appended_data_count = 0\n",
    "        while retry_count < MAX_RETRIES:\n",
    "            try:\n",
    "                content = box.find_elements(By.TAG_NAME, 'p')\n",
    "                header = box.find_element(By.TAG_NAME, 'h2')\n",
    "                headerText = header.text\n",
    "                star = box.find_element(By.TAG_NAME, 'img')\n",
    "                rate = star.get_attribute('alt')\n",
    "                starRating.append(rate[6])\n",
    "\n",
    "                appended_data_count = len(reviews)  # Keep track of the current appended data count\n",
    "\n",
    "                for detail in content:\n",
    "                    try:\n",
    "                        text = detail.text\n",
    "                        if 'Date of experience:' in text and len(content) == 1:\n",
    "                            dateExp.append(text[20:])\n",
    "                            reviews.append(headerText)\n",
    "                        elif 'Date of experience:' in text:\n",
    "                            dateExp.append(text[20:])\n",
    "                        else:\n",
    "                            reviews.append(text)\n",
    "                    except StaleElementReferenceException:\n",
    "                        print(\"StaleElementReferenceException occurred. Refreshing the page.\")\n",
    "                        browser.refresh()\n",
    "                        wait_for_page_to_load()\n",
    "                        print(\"Continuing from the same iteration...\")\n",
    "                        # Remove the appended data from the current iteration box\n",
    "                        del starRating[-1]\n",
    "                        del dateExp[appended_data_count:]\n",
    "                        del reviews[appended_data_count:]\n",
    "                        break  # Break the inner loop and continue from the same iteration\n",
    "                    except NoSuchElementException:\n",
    "                        print(\"NoSuchElementException occurred. Refreshing the page.\")\n",
    "                        browser.refresh()\n",
    "                        wait_for_page_to_load()\n",
    "                        print(\"Continuing from the same iteration...\")\n",
    "                        # Remove the appended data from the current iteration box\n",
    "                        del starRating[-1]\n",
    "                        del dateExp[appended_data_count:]\n",
    "                        del reviews[appended_data_count:]\n",
    "                        break  # Break the inner loop and continue from the same iteration\n",
    "\n",
    "                break  # Break the outer loop if no exceptions occurred\n",
    "\n",
    "            except NoSuchElementException:\n",
    "                retry_count += 1\n",
    "                print(f\"NoSuchElementException occurred. Retrying... ({retry_count}/{MAX_RETRIES})\")\n",
    "                time.sleep(1)  # Wait for 1 second before retrying\n",
    "\n",
    "        if retry_count == MAX_RETRIES:\n",
    "            print(\"Max retries reached for detail content. Moving to the next detail.\")"
   ]
  },
  {
   "cell_type": "markdown",
   "id": "e4a50aa4-45a6-4a1c-9d1e-b478da79a9c9",
   "metadata": {
    "tags": []
   },
   "source": [
    "#### Wait for the page to fully load"
   ]
  },
  {
   "cell_type": "code",
   "execution_count": 6,
   "id": "60ab596a-d3d5-4765-935b-ec52825b88ab",
   "metadata": {
    "tags": []
   },
   "outputs": [],
   "source": [
    "def wait_for_page_to_load():\n",
    "    try:\n",
    "        WebDriverWait(browser, 10).until(\n",
    "            EC.presence_of_all_elements_located((By.XPATH, '//*[@id=\"__next\"]/div/div/div/main/div/div[4]/section/div/article/div/section'))\n",
    "        )\n",
    "        time.sleep(2)\n",
    "    except TimeoutException:\n",
    "        print(\"Timed out waiting for page to load.\")"
   ]
  },
  {
   "cell_type": "markdown",
   "id": "327a62c2-652f-441c-877d-0a74dc11444c",
   "metadata": {},
   "source": [
    "#### Main Execution"
   ]
  },
  {
   "cell_type": "code",
   "execution_count": 7,
   "id": "5b90d556-e34e-48ec-89ad-0c2461055274",
   "metadata": {},
   "outputs": [
    {
     "name": "stderr",
     "output_type": "stream",
     "text": [
      "Pages8 (Reviews: 160, Star: 160, Date: 160):   3%| | 8/300 [01:29<49:15, 10.12s/"
     ]
    },
    {
     "name": "stdout",
     "output_type": "stream",
     "text": [
      "StaleElementReferenceException occurred. Retrying... (1/3)\n",
      "StaleElementReferenceException occurred. Retrying... (2/3)\n",
      "StaleElementReferenceException occurred. Retrying... (3/3)\n",
      "Max retries reached for detail content. Moving to the next detail.\n",
      "StaleElementReferenceException occurred. Retrying... (1/3)\n",
      "StaleElementReferenceException occurred. Retrying... (2/3)\n",
      "StaleElementReferenceException occurred. Retrying... (3/3)\n",
      "Max retries reached for detail content. Moving to the next detail.\n",
      "StaleElementReferenceException occurred. Retrying... (1/3)\n",
      "StaleElementReferenceException occurred. Retrying... (2/3)\n",
      "StaleElementReferenceException occurred. Retrying... (3/3)\n",
      "Max retries reached for detail content. Moving to the next detail.\n",
      "StaleElementReferenceException occurred. Retrying... (1/3)\n",
      "StaleElementReferenceException occurred. Retrying... (2/3)\n",
      "StaleElementReferenceException occurred. Retrying... (3/3)\n",
      "Max retries reached for detail content. Moving to the next detail.\n",
      "StaleElementReferenceException occurred. Retrying... (1/3)\n",
      "StaleElementReferenceException occurred. Retrying... (2/3)\n",
      "StaleElementReferenceException occurred. Retrying... (3/3)\n",
      "Max retries reached for detail content. Moving to the next detail.\n",
      "StaleElementReferenceException occurred. Retrying... (1/3)\n",
      "StaleElementReferenceException occurred. Retrying... (2/3)\n",
      "StaleElementReferenceException occurred. Retrying... (3/3)\n",
      "Max retries reached for detail content. Moving to the next detail.\n",
      "StaleElementReferenceException occurred. Retrying... (1/3)\n",
      "StaleElementReferenceException occurred. Retrying... (2/3)\n",
      "StaleElementReferenceException occurred. Retrying... (3/3)\n"
     ]
    },
    {
     "ename": "KeyboardInterrupt",
     "evalue": "",
     "output_type": "error",
     "traceback": [
      "\u001b[0;31m---------------------------------------------------------------------------\u001b[0m",
      "\u001b[0;31mStaleElementReferenceException\u001b[0m            Traceback (most recent call last)",
      "\u001b[0;32m/var/folders/x7/g3jn_87d3cldljmb204fyzwm0000gn/T/ipykernel_1586/4006632827.py\u001b[0m in \u001b[0;36mgetReviews\u001b[0;34m(reviewBox)\u001b[0m\n\u001b[1;32m      5\u001b[0m             \u001b[0;32mtry\u001b[0m\u001b[0;34m:\u001b[0m\u001b[0;34m\u001b[0m\u001b[0;34m\u001b[0m\u001b[0m\n\u001b[0;32m----> 6\u001b[0;31m                 \u001b[0mcontent\u001b[0m \u001b[0;34m=\u001b[0m \u001b[0mbox\u001b[0m\u001b[0;34m.\u001b[0m\u001b[0mfind_elements\u001b[0m\u001b[0;34m(\u001b[0m\u001b[0mBy\u001b[0m\u001b[0;34m.\u001b[0m\u001b[0mTAG_NAME\u001b[0m\u001b[0;34m,\u001b[0m \u001b[0;34m'p'\u001b[0m\u001b[0;34m)\u001b[0m\u001b[0;34m\u001b[0m\u001b[0;34m\u001b[0m\u001b[0m\n\u001b[0m\u001b[1;32m      7\u001b[0m                 \u001b[0mheader\u001b[0m \u001b[0;34m=\u001b[0m \u001b[0mbox\u001b[0m\u001b[0;34m.\u001b[0m\u001b[0mfind_element\u001b[0m\u001b[0;34m(\u001b[0m\u001b[0mBy\u001b[0m\u001b[0;34m.\u001b[0m\u001b[0mTAG_NAME\u001b[0m\u001b[0;34m,\u001b[0m \u001b[0;34m'h2'\u001b[0m\u001b[0;34m)\u001b[0m\u001b[0;34m\u001b[0m\u001b[0;34m\u001b[0m\u001b[0m\n",
      "\u001b[0;32m~/opt/anaconda3/envs/webscraping/lib/python3.9/site-packages/selenium/webdriver/remote/webelement.py\u001b[0m in \u001b[0;36mfind_elements\u001b[0;34m(self, by, value)\u001b[0m\n\u001b[1;32m    455\u001b[0m \u001b[0;34m\u001b[0m\u001b[0m\n\u001b[0;32m--> 456\u001b[0;31m         \u001b[0;32mreturn\u001b[0m \u001b[0mself\u001b[0m\u001b[0;34m.\u001b[0m\u001b[0m_execute\u001b[0m\u001b[0;34m(\u001b[0m\u001b[0mCommand\u001b[0m\u001b[0;34m.\u001b[0m\u001b[0mFIND_CHILD_ELEMENTS\u001b[0m\u001b[0;34m,\u001b[0m \u001b[0;34m{\u001b[0m\u001b[0;34m\"using\"\u001b[0m\u001b[0;34m:\u001b[0m \u001b[0mby\u001b[0m\u001b[0;34m,\u001b[0m \u001b[0;34m\"value\"\u001b[0m\u001b[0;34m:\u001b[0m \u001b[0mvalue\u001b[0m\u001b[0;34m}\u001b[0m\u001b[0;34m)\u001b[0m\u001b[0;34m[\u001b[0m\u001b[0;34m\"value\"\u001b[0m\u001b[0;34m]\u001b[0m\u001b[0;34m\u001b[0m\u001b[0;34m\u001b[0m\u001b[0m\n\u001b[0m\u001b[1;32m    457\u001b[0m \u001b[0;34m\u001b[0m\u001b[0m\n",
      "\u001b[0;32m~/opt/anaconda3/envs/webscraping/lib/python3.9/site-packages/selenium/webdriver/remote/webelement.py\u001b[0m in \u001b[0;36m_execute\u001b[0;34m(self, command, params)\u001b[0m\n\u001b[1;32m    409\u001b[0m         \u001b[0mparams\u001b[0m\u001b[0;34m[\u001b[0m\u001b[0;34m\"id\"\u001b[0m\u001b[0;34m]\u001b[0m \u001b[0;34m=\u001b[0m \u001b[0mself\u001b[0m\u001b[0;34m.\u001b[0m\u001b[0m_id\u001b[0m\u001b[0;34m\u001b[0m\u001b[0;34m\u001b[0m\u001b[0m\n\u001b[0;32m--> 410\u001b[0;31m         \u001b[0;32mreturn\u001b[0m \u001b[0mself\u001b[0m\u001b[0;34m.\u001b[0m\u001b[0m_parent\u001b[0m\u001b[0;34m.\u001b[0m\u001b[0mexecute\u001b[0m\u001b[0;34m(\u001b[0m\u001b[0mcommand\u001b[0m\u001b[0;34m,\u001b[0m \u001b[0mparams\u001b[0m\u001b[0;34m)\u001b[0m\u001b[0;34m\u001b[0m\u001b[0;34m\u001b[0m\u001b[0m\n\u001b[0m\u001b[1;32m    411\u001b[0m \u001b[0;34m\u001b[0m\u001b[0m\n",
      "\u001b[0;32m~/opt/anaconda3/envs/webscraping/lib/python3.9/site-packages/selenium/webdriver/remote/webdriver.py\u001b[0m in \u001b[0;36mexecute\u001b[0;34m(self, driver_command, params)\u001b[0m\n\u001b[1;32m    443\u001b[0m         \u001b[0;32mif\u001b[0m \u001b[0mresponse\u001b[0m\u001b[0;34m:\u001b[0m\u001b[0;34m\u001b[0m\u001b[0;34m\u001b[0m\u001b[0m\n\u001b[0;32m--> 444\u001b[0;31m             \u001b[0mself\u001b[0m\u001b[0;34m.\u001b[0m\u001b[0merror_handler\u001b[0m\u001b[0;34m.\u001b[0m\u001b[0mcheck_response\u001b[0m\u001b[0;34m(\u001b[0m\u001b[0mresponse\u001b[0m\u001b[0;34m)\u001b[0m\u001b[0;34m\u001b[0m\u001b[0;34m\u001b[0m\u001b[0m\n\u001b[0m\u001b[1;32m    445\u001b[0m             \u001b[0mresponse\u001b[0m\u001b[0;34m[\u001b[0m\u001b[0;34m\"value\"\u001b[0m\u001b[0;34m]\u001b[0m \u001b[0;34m=\u001b[0m \u001b[0mself\u001b[0m\u001b[0;34m.\u001b[0m\u001b[0m_unwrap_value\u001b[0m\u001b[0;34m(\u001b[0m\u001b[0mresponse\u001b[0m\u001b[0;34m.\u001b[0m\u001b[0mget\u001b[0m\u001b[0;34m(\u001b[0m\u001b[0;34m\"value\"\u001b[0m\u001b[0;34m,\u001b[0m \u001b[0;32mNone\u001b[0m\u001b[0;34m)\u001b[0m\u001b[0;34m)\u001b[0m\u001b[0;34m\u001b[0m\u001b[0;34m\u001b[0m\u001b[0m\n",
      "\u001b[0;32m~/opt/anaconda3/envs/webscraping/lib/python3.9/site-packages/selenium/webdriver/remote/errorhandler.py\u001b[0m in \u001b[0;36mcheck_response\u001b[0;34m(self, response)\u001b[0m\n\u001b[1;32m    248\u001b[0m             \u001b[0;32mraise\u001b[0m \u001b[0mexception_class\u001b[0m\u001b[0;34m(\u001b[0m\u001b[0mmessage\u001b[0m\u001b[0;34m,\u001b[0m \u001b[0mscreen\u001b[0m\u001b[0;34m,\u001b[0m \u001b[0mstacktrace\u001b[0m\u001b[0;34m,\u001b[0m \u001b[0malert_text\u001b[0m\u001b[0;34m)\u001b[0m  \u001b[0;31m# type: ignore[call-arg]  # mypy is not smart enough here\u001b[0m\u001b[0;34m\u001b[0m\u001b[0;34m\u001b[0m\u001b[0m\n\u001b[0;32m--> 249\u001b[0;31m         \u001b[0;32mraise\u001b[0m \u001b[0mexception_class\u001b[0m\u001b[0;34m(\u001b[0m\u001b[0mmessage\u001b[0m\u001b[0;34m,\u001b[0m \u001b[0mscreen\u001b[0m\u001b[0;34m,\u001b[0m \u001b[0mstacktrace\u001b[0m\u001b[0;34m)\u001b[0m\u001b[0;34m\u001b[0m\u001b[0;34m\u001b[0m\u001b[0m\n\u001b[0m",
      "\u001b[0;31mStaleElementReferenceException\u001b[0m: Message: stale element reference: stale element not found\n  (Session info: chrome=113.0.5672.126)\nStacktrace:\n0   chromedriver113                     0x0000000101199598 chromedriver113 + 4973976\n1   chromedriver113                     0x0000000101190913 chromedriver113 + 4938003\n2   chromedriver113                     0x0000000100d4dcd6 chromedriver113 + 470230\n3   chromedriver113                     0x0000000100d530e8 chromedriver113 + 491752\n4   chromedriver113                     0x0000000100d55187 chromedriver113 + 500103\n5   chromedriver113                     0x0000000100d5528c chromedriver113 + 500364\n6   chromedriver113                     0x0000000100d90f0a chromedriver113 + 745226\n7   chromedriver113                     0x0000000100d91591 chromedriver113 + 746897\n8   chromedriver113                     0x0000000100d853d3 chromedriver113 + 697299\n9   chromedriver113                     0x0000000100db59ed chromedriver113 + 895469\n10  chromedriver113                     0x0000000100d84e51 chromedriver113 + 695889\n11  chromedriver113                     0x0000000100db5b7e chromedriver113 + 895870\n12  chromedriver113                     0x0000000100dd0856 chromedriver113 + 1005654\n13  chromedriver113                     0x0000000100db5793 chromedriver113 + 894867\n14  chromedriver113                     0x0000000100d8321f chromedriver113 + 688671\n15  chromedriver113                     0x0000000100d8456e chromedriver113 + 693614\n16  chromedriver113                     0x0000000101153bb7 chromedriver113 + 4688823\n17  chromedriver113                     0x0000000101158a51 chromedriver113 + 4708945\n18  chromedriver113                     0x000000010115f40f chromedriver113 + 4736015\n19  chromedriver113                     0x000000010115991a chromedriver113 + 4712730\n20  chromedriver113                     0x000000010112c87c chromedriver113 + 4528252\n21  chromedriver113                     0x0000000101178f28 chromedriver113 + 4841256\n22  chromedriver113                     0x00000001011790a7 chromedriver113 + 4841639\n23  chromedriver113                     0x000000010118a28f chromedriver113 + 4911759\n24  libsystem_pthread.dylib             0x00007ff80cafb1d3 _pthread_start + 125\n25  libsystem_pthread.dylib             0x00007ff80caf6bd3 thread_start + 15\n",
      "\nDuring handling of the above exception, another exception occurred:\n",
      "\u001b[0;31mKeyboardInterrupt\u001b[0m                         Traceback (most recent call last)",
      "\u001b[0;32m/var/folders/x7/g3jn_87d3cldljmb204fyzwm0000gn/T/ipykernel_1586/163784841.py\u001b[0m in \u001b[0;36m<module>\u001b[0;34m\u001b[0m\n\u001b[1;32m     17\u001b[0m \u001b[0;34m\u001b[0m\u001b[0m\n\u001b[1;32m     18\u001b[0m     \u001b[0;32mtry\u001b[0m\u001b[0;34m:\u001b[0m\u001b[0;34m\u001b[0m\u001b[0;34m\u001b[0m\u001b[0m\n\u001b[0;32m---> 19\u001b[0;31m         \u001b[0mgetReviews\u001b[0m\u001b[0;34m(\u001b[0m\u001b[0mreviewBox\u001b[0m\u001b[0;34m)\u001b[0m\u001b[0;34m\u001b[0m\u001b[0;34m\u001b[0m\u001b[0m\n\u001b[0m\u001b[1;32m     20\u001b[0m     \u001b[0;32mexcept\u001b[0m \u001b[0mStaleElementReferenceException\u001b[0m\u001b[0;34m:\u001b[0m\u001b[0;34m\u001b[0m\u001b[0;34m\u001b[0m\u001b[0m\n\u001b[1;32m     21\u001b[0m         \u001b[0mprint\u001b[0m\u001b[0;34m(\u001b[0m\u001b[0;34m\"StaleElementReferenceException occurred while finding review content boxes.\"\u001b[0m\u001b[0;34m)\u001b[0m\u001b[0;34m\u001b[0m\u001b[0;34m\u001b[0m\u001b[0m\n",
      "\u001b[0;32m/var/folders/x7/g3jn_87d3cldljmb204fyzwm0000gn/T/ipykernel_1586/4006632827.py\u001b[0m in \u001b[0;36mgetReviews\u001b[0;34m(reviewBox)\u001b[0m\n\u001b[1;32m     26\u001b[0m                 \u001b[0mretry_count\u001b[0m \u001b[0;34m+=\u001b[0m \u001b[0;36m1\u001b[0m\u001b[0;34m\u001b[0m\u001b[0;34m\u001b[0m\u001b[0m\n\u001b[1;32m     27\u001b[0m                 \u001b[0mprint\u001b[0m\u001b[0;34m(\u001b[0m\u001b[0;34mf\"StaleElementReferenceException occurred. Retrying... ({retry_count}/{MAX_RETRIES})\"\u001b[0m\u001b[0;34m)\u001b[0m\u001b[0;34m\u001b[0m\u001b[0;34m\u001b[0m\u001b[0m\n\u001b[0;32m---> 28\u001b[0;31m                 \u001b[0mtime\u001b[0m\u001b[0;34m.\u001b[0m\u001b[0msleep\u001b[0m\u001b[0;34m(\u001b[0m\u001b[0;36m1\u001b[0m\u001b[0;34m)\u001b[0m  \u001b[0;31m# Wait for 1 second before retrying\u001b[0m\u001b[0;34m\u001b[0m\u001b[0;34m\u001b[0m\u001b[0m\n\u001b[0m\u001b[1;32m     29\u001b[0m \u001b[0;34m\u001b[0m\u001b[0m\n\u001b[1;32m     30\u001b[0m             \u001b[0;32mexcept\u001b[0m \u001b[0mNoSuchElementException\u001b[0m\u001b[0;34m:\u001b[0m\u001b[0;34m\u001b[0m\u001b[0;34m\u001b[0m\u001b[0m\n",
      "\u001b[0;31mKeyboardInterrupt\u001b[0m: "
     ]
    }
   ],
   "source": [
    "reviews = []\n",
    "starRating = []\n",
    "dateExp = []\n",
    "total_reviews = 0\n",
    "total_dateExp = 0\n",
    "total_starRating = 0\n",
    "\n",
    "MAX_RETRIES = 3\n",
    "\n",
    "pbar = tqdm(total=300, desc=f'Pages (Reviews: {total_reviews}, Star: {total_starRating}, Date: {total_dateExp})')\n",
    "\n",
    "for i in range(300):   \n",
    "    \n",
    "    wait_for_page_to_load()\n",
    "    \n",
    "    reviewBox = browser.find_elements(By.XPATH, '//*[@id=\"__next\"]/div/div/div/main/div/div[4]/section/div/article/div/section')\n",
    "    \n",
    "    try:\n",
    "        getReviews(reviewBox)\n",
    "    except StaleElementReferenceException:\n",
    "        print(\"StaleElementReferenceException occurred while finding review content boxes.\")\n",
    "    except NoSuchElementException:\n",
    "        print(\"NoSuchElementException occurred while finding review content boxes.\")\n",
    "    \n",
    "    try:\n",
    "        clickNextPage()\n",
    "    except StaleElementReferenceException:\n",
    "        print(\"StaleElementReferenceException occurred while clicking the next page.\")\n",
    "    except NoSuchElementException:\n",
    "        print(\"NoSuchElementException occurred while clicking the next page.\")\n",
    "    \n",
    "    wait_for_page_to_load()\n",
    "    #wait_for_page_to_load()\n",
    "    \n",
    "    total_reviews = len(reviews)\n",
    "    total_dateExp = len(dateExp)\n",
    "    total_starRating = len(starRating)\n",
    "    \n",
    "    pbar.set_description(f'Pages{1+i} (Reviews: {total_reviews}, Star: {total_starRating}, Date: {total_dateExp})')\n",
    "    pbar.update(1)\n",
    "\n",
    "pbar.close()\n",
    "    \n",
    "    #print(f'{len(reviews)}, {len(dateExp)}')"
   ]
  },
  {
   "cell_type": "code",
   "execution_count": null,
   "id": "5be817c1-36a4-4727-a51c-25b754d35814",
   "metadata": {},
   "outputs": [],
   "source": [
    "pbar.close()"
   ]
  },
  {
   "cell_type": "code",
   "execution_count": null,
   "id": "249a3a56-7d00-43d2-a432-6dda9cedb738",
   "metadata": {},
   "outputs": [],
   "source": [
    "print(browser.current_url)\n",
    "browser.quit()"
   ]
  },
  {
   "cell_type": "code",
   "execution_count": null,
   "id": "a2ecde65-241a-49af-a853-d027d832640b",
   "metadata": {},
   "outputs": [],
   "source": [
    "url = browser.current_url\n",
    "url"
   ]
  },
  {
   "cell_type": "code",
   "execution_count": null,
   "id": "63aed42b-ccb9-4273-aeb0-af3e748e7ee9",
   "metadata": {},
   "outputs": [],
   "source": [
    "dups = [x for x in reviews if reviews.count(x) >=2]\n",
    "dups"
   ]
  },
  {
   "cell_type": "markdown",
   "id": "7920a8d2-3024-4180-8d53-de11c38e60e1",
   "metadata": {},
   "source": [
    "#### Saving it into dataframe"
   ]
  },
  {
   "cell_type": "code",
   "execution_count": null,
   "id": "be9c5d22-bb22-427a-9f9f-8bc2c9686301",
   "metadata": {},
   "outputs": [],
   "source": [
    "inchcape_reviews = pd.DataFrame({'Date of Exp': dateExp,\n",
    "                                 'Star Rating': starRating,\n",
    "                                 'Reviews': reviews\n",
    "                                })\n",
    "\n",
    "# converting the string to datetime format\n",
    "inchcape_reviews['Date of Exp'] = pd.to_datetime(inchcape_reviews['Date of Exp'], format='%B %d, %Y')\n",
    "# converting the string to integer format\n",
    "inchcape_reviews['Star Rating'] = inchcape_reviews['Star Rating'].astype(int)"
   ]
  },
  {
   "cell_type": "code",
   "execution_count": null,
   "id": "64da5d32-0a6e-4a25-9cda-81149d1a253c",
   "metadata": {},
   "outputs": [],
   "source": [
    "inchcape_reviews.to_csv('inchcapeReviews5.csv',header=True, index = False)"
   ]
  },
  {
   "cell_type": "code",
   "execution_count": null,
   "id": "c9d4b9a6-a94e-4c04-961d-29899497cb86",
   "metadata": {},
   "outputs": [],
   "source": [
    "inchcape_reviews.info()"
   ]
  },
  {
   "cell_type": "code",
   "execution_count": null,
   "id": "851b3cfa-5e99-46aa-ad7e-7ab3f8c30ee3",
   "metadata": {},
   "outputs": [],
   "source": [
    "len(dateExp)"
   ]
  },
  {
   "cell_type": "markdown",
   "id": "19e875d4-a1b4-4ce2-b73d-caee25dcecb0",
   "metadata": {
    "jp-MarkdownHeadingCollapsed": true,
    "tags": []
   },
   "source": [
    "###  scratch"
   ]
  },
  {
   "cell_type": "code",
   "execution_count": null,
   "id": "e9204e5d-9119-4ad5-9114-64ee81155bf8",
   "metadata": {},
   "outputs": [],
   "source": [
    "reviewBox"
   ]
  },
  {
   "cell_type": "code",
   "execution_count": null,
   "id": "aed73a0b-3dc0-4fd9-aad8-9de6eeb5b790",
   "metadata": {},
   "outputs": [],
   "source": [
    "star = reviewBox[4].find_element(By.TAG_NAME, 'img')\n",
    "rate = star.get_attribute('alt')\n",
    "rate[6]"
   ]
  },
  {
   "cell_type": "code",
   "execution_count": null,
   "id": "b9e753fd-30ae-4c0c-9d84-59cf21aabbc9",
   "metadata": {},
   "outputs": [],
   "source": [
    "reviewBox[4]"
   ]
  },
  {
   "cell_type": "code",
   "execution_count": null,
   "id": "681bc09a-5493-4b7c-b227-e32ccb45be5a",
   "metadata": {},
   "outputs": [],
   "source": [
    "header = reviewBox[0].find_element(By.TAG_NAME, 'h2')\n",
    "header.text"
   ]
  },
  {
   "cell_type": "code",
   "execution_count": null,
   "id": "cdec7be4-4343-438a-baf5-dad8d752a7ff",
   "metadata": {},
   "outputs": [],
   "source": []
  }
 ],
 "metadata": {
  "kernelspec": {
   "display_name": "webscraping",
   "language": "python",
   "name": "webscraping"
  },
  "language_info": {
   "codemirror_mode": {
    "name": "ipython",
    "version": 3
   },
   "file_extension": ".py",
   "mimetype": "text/x-python",
   "name": "python",
   "nbconvert_exporter": "python",
   "pygments_lexer": "ipython3",
   "version": "3.9.13"
  }
 },
 "nbformat": 4,
 "nbformat_minor": 5
}
